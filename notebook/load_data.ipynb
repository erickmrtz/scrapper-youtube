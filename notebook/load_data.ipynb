{
 "cells": [
  {
   "cell_type": "code",
   "execution_count": 1,
   "metadata": {},
   "outputs": [],
   "source": [
    "import pandas as pd\n",
    "import numpy as np\n",
    "import matplotlib.pyplot as plt\n",
    "import seaborn as sns\n",
    "%matplotlib inline"
   ]
  },
  {
   "cell_type": "code",
   "execution_count": 270,
   "metadata": {},
   "outputs": [],
   "source": [
    "df_notrend = pd.read_csv('finalNoTrending.csv')\n",
    "df_trend = pd.read_csv('finalTrending.csv')"
   ]
  },
  {
   "cell_type": "code",
   "execution_count": 271,
   "metadata": {},
   "outputs": [
    {
     "data": {
      "text/plain": [
       "((400, 25), (1627, 25))"
      ]
     },
     "execution_count": 271,
     "metadata": {},
     "output_type": "execute_result"
    }
   ],
   "source": [
    "df_trend.shape, df_notrend.shape"
   ]
  },
  {
   "cell_type": "code",
   "execution_count": 272,
   "metadata": {},
   "outputs": [
    {
     "data": {
      "text/plain": [
       "(2027, 25)"
      ]
     },
     "execution_count": 272,
     "metadata": {},
     "output_type": "execute_result"
    }
   ],
   "source": [
    "df = pd.concat([df_notrend,df_trend],ignore_index=True)\n",
    "df.shape"
   ]
  },
  {
   "cell_type": "code",
   "execution_count": 273,
   "metadata": {
    "scrolled": true
   },
   "outputs": [],
   "source": [
    "import json\n",
    "categories = dict()\n",
    "with open('category.json') as json_file:  \n",
    "    data = json.load(json_file)\n",
    "    \n",
    "    for item in data['items']:\n",
    "        snippet = item['snippet']\n",
    "        categories[item['id']] = snippet['title']"
   ]
  },
  {
   "cell_type": "code",
   "execution_count": 284,
   "metadata": {
    "scrolled": true
   },
   "outputs": [
    {
     "data": {
      "text/plain": [
       "24    605\n",
       "10    314\n",
       "17    209\n",
       "23    152\n",
       "22    121\n",
       "26    105\n",
       "28     96\n",
       "1      81\n",
       "25     74\n",
       "27     61\n",
       "20     60\n",
       "2      55\n",
       "15      8\n",
       "19      6\n",
       "Name: categoryId, dtype: int64"
      ]
     },
     "execution_count": 284,
     "metadata": {},
     "output_type": "execute_result"
    }
   ],
   "source": [
    "df.categoryId.value_counts(dropna=False)"
   ]
  },
  {
   "cell_type": "code",
   "execution_count": 276,
   "metadata": {
    "scrolled": true
   },
   "outputs": [],
   "source": [
    "df.categoryId = df.categoryId.astype(str)"
   ]
  },
  {
   "cell_type": "code",
   "execution_count": 278,
   "metadata": {},
   "outputs": [],
   "source": [
    "df.categoryId = df.categoryId.replace('22nd','22')"
   ]
  },
  {
   "cell_type": "code",
   "execution_count": 282,
   "metadata": {},
   "outputs": [],
   "source": [
    "df.categoryId = df.categoryId.replace('nan',np.nan)"
   ]
  },
  {
   "cell_type": "code",
   "execution_count": 285,
   "metadata": {},
   "outputs": [],
   "source": [
    "df = df[pd.notnull(df.categoryId)]"
   ]
  },
  {
   "cell_type": "code",
   "execution_count": 286,
   "metadata": {},
   "outputs": [],
   "source": [
    "category = []\n",
    "for id in df.categoryId.values:\n",
    "    try:\n",
    "        category.append(categories[id])\n",
    "    except:\n",
    "        category.append(id)"
   ]
  },
  {
   "cell_type": "code",
   "execution_count": 287,
   "metadata": {},
   "outputs": [],
   "source": [
    "df['videoCategory'] = pd.DataFrame(category)"
   ]
  },
  {
   "cell_type": "code",
   "execution_count": 288,
   "metadata": {},
   "outputs": [
    {
     "data": {
      "text/plain": [
       "0"
      ]
     },
     "execution_count": 288,
     "metadata": {},
     "output_type": "execute_result"
    }
   ],
   "source": [
    "df.comment_count = df.comment_count.fillna(-1)\n",
    "\n",
    "sum(df.comment_count.isnull())"
   ]
  },
  {
   "cell_type": "code",
   "execution_count": 289,
   "metadata": {},
   "outputs": [],
   "source": [
    "df.comment_count = df.comment_count.astype(int)"
   ]
  },
  {
   "cell_type": "code",
   "execution_count": 290,
   "metadata": {},
   "outputs": [],
   "source": [
    "df.dislikes = df.dislikes.fillna(-1)\n",
    "df.dislikes = df.dislikes.astype(int)"
   ]
  },
  {
   "cell_type": "code",
   "execution_count": 291,
   "metadata": {},
   "outputs": [],
   "source": [
    "df.publishedAt = df.publishedAt.apply(lambda x: str(x))"
   ]
  },
  {
   "cell_type": "code",
   "execution_count": 292,
   "metadata": {},
   "outputs": [],
   "source": [
    "df.publishedAt = [x[:10] for x in df.publishedAt.values]"
   ]
  },
  {
   "cell_type": "code",
   "execution_count": 293,
   "metadata": {},
   "outputs": [
    {
     "name": "stderr",
     "output_type": "stream",
     "text": [
      "c:\\program files\\python37\\lib\\site-packages\\ipykernel_launcher.py:4: SettingWithCopyWarning: \n",
      "A value is trying to be set on a copy of a slice from a DataFrame\n",
      "\n",
      "See the caveats in the documentation: http://pandas.pydata.org/pandas-docs/stable/indexing.html#indexing-view-versus-copy\n",
      "  after removing the cwd from sys.path.\n"
     ]
    }
   ],
   "source": [
    "i = 0\n",
    "for x in df.publishedAt.values:\n",
    "    if(x=='A+'):\n",
    "        df.publishedAt[i] = None\n",
    "    i+=1"
   ]
  },
  {
   "cell_type": "code",
   "execution_count": 294,
   "metadata": {},
   "outputs": [
    {
     "ename": "ValueError",
     "evalue": "time data A+ doesn't match format specified",
     "output_type": "error",
     "traceback": [
      "\u001b[1;31m---------------------------------------------------------------------------\u001b[0m",
      "\u001b[1;31mTypeError\u001b[0m                                 Traceback (most recent call last)",
      "\u001b[1;32mc:\\program files\\python37\\lib\\site-packages\\pandas\\core\\arrays\\datetimes.py\u001b[0m in \u001b[0;36mobjects_to_datetime64ns\u001b[1;34m(data, dayfirst, yearfirst, utc, errors, require_iso8601, allow_object)\u001b[0m\n\u001b[0;32m   1860\u001b[0m         \u001b[1;32mtry\u001b[0m\u001b[1;33m:\u001b[0m\u001b[1;33m\u001b[0m\u001b[1;33m\u001b[0m\u001b[0m\n\u001b[1;32m-> 1861\u001b[1;33m             \u001b[0mvalues\u001b[0m\u001b[1;33m,\u001b[0m \u001b[0mtz_parsed\u001b[0m \u001b[1;33m=\u001b[0m \u001b[0mconversion\u001b[0m\u001b[1;33m.\u001b[0m\u001b[0mdatetime_to_datetime64\u001b[0m\u001b[1;33m(\u001b[0m\u001b[0mdata\u001b[0m\u001b[1;33m)\u001b[0m\u001b[1;33m\u001b[0m\u001b[1;33m\u001b[0m\u001b[0m\n\u001b[0m\u001b[0;32m   1862\u001b[0m             \u001b[1;31m# If tzaware, these values represent unix timestamps, so we\u001b[0m\u001b[1;33m\u001b[0m\u001b[1;33m\u001b[0m\u001b[1;33m\u001b[0m\u001b[0m\n",
      "\u001b[1;32mpandas\\_libs\\tslibs\\conversion.pyx\u001b[0m in \u001b[0;36mpandas._libs.tslibs.conversion.datetime_to_datetime64\u001b[1;34m()\u001b[0m\n",
      "\u001b[1;31mTypeError\u001b[0m: Unrecognized value type: <class 'str'>",
      "\nDuring handling of the above exception, another exception occurred:\n",
      "\u001b[1;31mValueError\u001b[0m                                Traceback (most recent call last)",
      "\u001b[1;32m<ipython-input-294-e6b0e5927e3c>\u001b[0m in \u001b[0;36m<module>\u001b[1;34m\u001b[0m\n\u001b[1;32m----> 1\u001b[1;33m \u001b[0mdf\u001b[0m\u001b[1;33m.\u001b[0m\u001b[0mpublishedAt\u001b[0m \u001b[1;33m=\u001b[0m \u001b[0mpd\u001b[0m\u001b[1;33m.\u001b[0m\u001b[0mto_datetime\u001b[0m\u001b[1;33m(\u001b[0m\u001b[0mdf\u001b[0m\u001b[1;33m.\u001b[0m\u001b[0mpublishedAt\u001b[0m\u001b[1;33m,\u001b[0m \u001b[0mformat\u001b[0m \u001b[1;33m=\u001b[0m \u001b[1;34m'%Y-%m-%d'\u001b[0m\u001b[1;33m)\u001b[0m\u001b[1;33m\u001b[0m\u001b[1;33m\u001b[0m\u001b[0m\n\u001b[0m",
      "\u001b[1;32mc:\\program files\\python37\\lib\\site-packages\\pandas\\core\\tools\\datetimes.py\u001b[0m in \u001b[0;36mto_datetime\u001b[1;34m(arg, errors, dayfirst, yearfirst, utc, box, format, exact, unit, infer_datetime_format, origin, cache)\u001b[0m\n\u001b[0;32m    590\u001b[0m         \u001b[1;32melse\u001b[0m\u001b[1;33m:\u001b[0m\u001b[1;33m\u001b[0m\u001b[1;33m\u001b[0m\u001b[0m\n\u001b[0;32m    591\u001b[0m             \u001b[1;32mfrom\u001b[0m \u001b[0mpandas\u001b[0m \u001b[1;32mimport\u001b[0m \u001b[0mSeries\u001b[0m\u001b[1;33m\u001b[0m\u001b[1;33m\u001b[0m\u001b[0m\n\u001b[1;32m--> 592\u001b[1;33m             \u001b[0mvalues\u001b[0m \u001b[1;33m=\u001b[0m \u001b[0mconvert_listlike\u001b[0m\u001b[1;33m(\u001b[0m\u001b[0marg\u001b[0m\u001b[1;33m.\u001b[0m\u001b[0m_values\u001b[0m\u001b[1;33m,\u001b[0m \u001b[1;32mTrue\u001b[0m\u001b[1;33m,\u001b[0m \u001b[0mformat\u001b[0m\u001b[1;33m)\u001b[0m\u001b[1;33m\u001b[0m\u001b[1;33m\u001b[0m\u001b[0m\n\u001b[0m\u001b[0;32m    593\u001b[0m             \u001b[0mresult\u001b[0m \u001b[1;33m=\u001b[0m \u001b[0mSeries\u001b[0m\u001b[1;33m(\u001b[0m\u001b[0mvalues\u001b[0m\u001b[1;33m,\u001b[0m \u001b[0mindex\u001b[0m\u001b[1;33m=\u001b[0m\u001b[0marg\u001b[0m\u001b[1;33m.\u001b[0m\u001b[0mindex\u001b[0m\u001b[1;33m,\u001b[0m \u001b[0mname\u001b[0m\u001b[1;33m=\u001b[0m\u001b[0marg\u001b[0m\u001b[1;33m.\u001b[0m\u001b[0mname\u001b[0m\u001b[1;33m)\u001b[0m\u001b[1;33m\u001b[0m\u001b[1;33m\u001b[0m\u001b[0m\n\u001b[0;32m    594\u001b[0m     \u001b[1;32melif\u001b[0m \u001b[0misinstance\u001b[0m\u001b[1;33m(\u001b[0m\u001b[0marg\u001b[0m\u001b[1;33m,\u001b[0m \u001b[1;33m(\u001b[0m\u001b[0mABCDataFrame\u001b[0m\u001b[1;33m,\u001b[0m \u001b[0mcompat\u001b[0m\u001b[1;33m.\u001b[0m\u001b[0mMutableMapping\u001b[0m\u001b[1;33m)\u001b[0m\u001b[1;33m)\u001b[0m\u001b[1;33m:\u001b[0m\u001b[1;33m\u001b[0m\u001b[1;33m\u001b[0m\u001b[0m\n",
      "\u001b[1;32mc:\\program files\\python37\\lib\\site-packages\\pandas\\core\\tools\\datetimes.py\u001b[0m in \u001b[0;36m_convert_listlike_datetimes\u001b[1;34m(arg, box, format, name, tz, unit, errors, infer_datetime_format, dayfirst, yearfirst, exact)\u001b[0m\n\u001b[0;32m    300\u001b[0m             \u001b[0marg\u001b[0m\u001b[1;33m,\u001b[0m \u001b[0mdayfirst\u001b[0m\u001b[1;33m=\u001b[0m\u001b[0mdayfirst\u001b[0m\u001b[1;33m,\u001b[0m \u001b[0myearfirst\u001b[0m\u001b[1;33m=\u001b[0m\u001b[0myearfirst\u001b[0m\u001b[1;33m,\u001b[0m\u001b[1;33m\u001b[0m\u001b[1;33m\u001b[0m\u001b[0m\n\u001b[0;32m    301\u001b[0m             \u001b[0mutc\u001b[0m\u001b[1;33m=\u001b[0m\u001b[0mutc\u001b[0m\u001b[1;33m,\u001b[0m \u001b[0merrors\u001b[0m\u001b[1;33m=\u001b[0m\u001b[0merrors\u001b[0m\u001b[1;33m,\u001b[0m \u001b[0mrequire_iso8601\u001b[0m\u001b[1;33m=\u001b[0m\u001b[0mrequire_iso8601\u001b[0m\u001b[1;33m,\u001b[0m\u001b[1;33m\u001b[0m\u001b[1;33m\u001b[0m\u001b[0m\n\u001b[1;32m--> 302\u001b[1;33m             allow_object=True)\n\u001b[0m\u001b[0;32m    303\u001b[0m \u001b[1;33m\u001b[0m\u001b[0m\n\u001b[0;32m    304\u001b[0m     \u001b[1;32mif\u001b[0m \u001b[0mtz_parsed\u001b[0m \u001b[1;32mis\u001b[0m \u001b[1;32mnot\u001b[0m \u001b[1;32mNone\u001b[0m\u001b[1;33m:\u001b[0m\u001b[1;33m\u001b[0m\u001b[1;33m\u001b[0m\u001b[0m\n",
      "\u001b[1;32mc:\\program files\\python37\\lib\\site-packages\\pandas\\core\\arrays\\datetimes.py\u001b[0m in \u001b[0;36mobjects_to_datetime64ns\u001b[1;34m(data, dayfirst, yearfirst, utc, errors, require_iso8601, allow_object)\u001b[0m\n\u001b[0;32m   1864\u001b[0m             \u001b[1;32mreturn\u001b[0m \u001b[0mvalues\u001b[0m\u001b[1;33m.\u001b[0m\u001b[0mview\u001b[0m\u001b[1;33m(\u001b[0m\u001b[1;34m'i8'\u001b[0m\u001b[1;33m)\u001b[0m\u001b[1;33m,\u001b[0m \u001b[0mtz_parsed\u001b[0m\u001b[1;33m\u001b[0m\u001b[1;33m\u001b[0m\u001b[0m\n\u001b[0;32m   1865\u001b[0m         \u001b[1;32mexcept\u001b[0m \u001b[1;33m(\u001b[0m\u001b[0mValueError\u001b[0m\u001b[1;33m,\u001b[0m \u001b[0mTypeError\u001b[0m\u001b[1;33m)\u001b[0m\u001b[1;33m:\u001b[0m\u001b[1;33m\u001b[0m\u001b[1;33m\u001b[0m\u001b[0m\n\u001b[1;32m-> 1866\u001b[1;33m             \u001b[1;32mraise\u001b[0m \u001b[0me\u001b[0m\u001b[1;33m\u001b[0m\u001b[1;33m\u001b[0m\u001b[0m\n\u001b[0m\u001b[0;32m   1867\u001b[0m \u001b[1;33m\u001b[0m\u001b[0m\n\u001b[0;32m   1868\u001b[0m     \u001b[1;32mif\u001b[0m \u001b[0mtz_parsed\u001b[0m \u001b[1;32mis\u001b[0m \u001b[1;32mnot\u001b[0m \u001b[1;32mNone\u001b[0m\u001b[1;33m:\u001b[0m\u001b[1;33m\u001b[0m\u001b[1;33m\u001b[0m\u001b[0m\n",
      "\u001b[1;32mc:\\program files\\python37\\lib\\site-packages\\pandas\\core\\arrays\\datetimes.py\u001b[0m in \u001b[0;36mobjects_to_datetime64ns\u001b[1;34m(data, dayfirst, yearfirst, utc, errors, require_iso8601, allow_object)\u001b[0m\n\u001b[0;32m   1855\u001b[0m             \u001b[0mdayfirst\u001b[0m\u001b[1;33m=\u001b[0m\u001b[0mdayfirst\u001b[0m\u001b[1;33m,\u001b[0m\u001b[1;33m\u001b[0m\u001b[1;33m\u001b[0m\u001b[0m\n\u001b[0;32m   1856\u001b[0m             \u001b[0myearfirst\u001b[0m\u001b[1;33m=\u001b[0m\u001b[0myearfirst\u001b[0m\u001b[1;33m,\u001b[0m\u001b[1;33m\u001b[0m\u001b[1;33m\u001b[0m\u001b[0m\n\u001b[1;32m-> 1857\u001b[1;33m             \u001b[0mrequire_iso8601\u001b[0m\u001b[1;33m=\u001b[0m\u001b[0mrequire_iso8601\u001b[0m\u001b[1;33m\u001b[0m\u001b[1;33m\u001b[0m\u001b[0m\n\u001b[0m\u001b[0;32m   1858\u001b[0m         )\n\u001b[0;32m   1859\u001b[0m     \u001b[1;32mexcept\u001b[0m \u001b[0mValueError\u001b[0m \u001b[1;32mas\u001b[0m \u001b[0me\u001b[0m\u001b[1;33m:\u001b[0m\u001b[1;33m\u001b[0m\u001b[1;33m\u001b[0m\u001b[0m\n",
      "\u001b[1;32mpandas\\_libs\\tslib.pyx\u001b[0m in \u001b[0;36mpandas._libs.tslib.array_to_datetime\u001b[1;34m()\u001b[0m\n",
      "\u001b[1;32mpandas\\_libs\\tslib.pyx\u001b[0m in \u001b[0;36mpandas._libs.tslib.array_to_datetime\u001b[1;34m()\u001b[0m\n",
      "\u001b[1;31mValueError\u001b[0m: time data A+ doesn't match format specified"
     ]
    }
   ],
   "source": [
    "df.publishedAt = pd.to_datetime(df.publishedAt, format = '%Y-%m-%d')"
   ]
  },
  {
   "cell_type": "code",
   "execution_count": 295,
   "metadata": {},
   "outputs": [
    {
     "data": {
      "text/plain": [
       "video_id             object\n",
       "title                object\n",
       "publishedAt          object\n",
       "channelId            object\n",
       "channelTitle         object\n",
       "categoryId           object\n",
       "trending             object\n",
       "tags                 object\n",
       "view_count           object\n",
       "likes                object\n",
       "dislikes              int32\n",
       "comment_count         int32\n",
       "thumbnail_link       object\n",
       "comments_disabled    object\n",
       "ratings_disabled     object\n",
       "description          object\n",
       "country              object\n",
       "total_grade          object\n",
       "subscriber_rank      object\n",
       "video_view_rank      object\n",
       "social_blade_rank    object\n",
       "views_30_days        object\n",
       "change_views_30      object\n",
       "subs_30_days         object\n",
       "change_subs_30       object\n",
       "videoCategory        object\n",
       "dtype: object"
      ]
     },
     "execution_count": 295,
     "metadata": {},
     "output_type": "execute_result"
    }
   ],
   "source": [
    "df.dtypes"
   ]
  },
  {
   "cell_type": "code",
   "execution_count": 296,
   "metadata": {},
   "outputs": [],
   "source": [
    "df.view_count = df.view_count.fillna(\"-1\")\n",
    "df.view_count = df.view_count.apply(lambda x:str(x))\n",
    "df.view_count = df.view_count.apply(lambda x:x.replace(',','')).astype(int)"
   ]
  },
  {
   "cell_type": "code",
   "execution_count": 298,
   "metadata": {
    "scrolled": true
   },
   "outputs": [
    {
     "name": "stderr",
     "output_type": "stream",
     "text": [
      "c:\\program files\\python37\\lib\\site-packages\\ipykernel_launcher.py:6: SettingWithCopyWarning: \n",
      "A value is trying to be set on a copy of a slice from a DataFrame\n",
      "\n",
      "See the caveats in the documentation: http://pandas.pydata.org/pandas-docs/stable/indexing.html#indexing-view-versus-copy\n",
      "  \n"
     ]
    },
    {
     "ename": "ValueError",
     "evalue": "invalid literal for int() with base 10: '1.5%'",
     "output_type": "error",
     "traceback": [
      "\u001b[1;31m---------------------------------------------------------------------------\u001b[0m",
      "\u001b[1;31mValueError\u001b[0m                                Traceback (most recent call last)",
      "\u001b[1;32m<ipython-input-298-c7c6b19fcf80>\u001b[0m in \u001b[0;36m<module>\u001b[1;34m\u001b[0m\n\u001b[0;32m      7\u001b[0m     \u001b[0mcont\u001b[0m\u001b[1;33m+=\u001b[0m\u001b[1;36m1\u001b[0m\u001b[1;33m\u001b[0m\u001b[1;33m\u001b[0m\u001b[0m\n\u001b[0;32m      8\u001b[0m \u001b[1;33m\u001b[0m\u001b[0m\n\u001b[1;32m----> 9\u001b[1;33m \u001b[0mdf\u001b[0m\u001b[1;33m.\u001b[0m\u001b[0mlikes\u001b[0m \u001b[1;33m=\u001b[0m \u001b[0mdf\u001b[0m\u001b[1;33m.\u001b[0m\u001b[0mlikes\u001b[0m\u001b[1;33m.\u001b[0m\u001b[0mapply\u001b[0m\u001b[1;33m(\u001b[0m\u001b[1;32mlambda\u001b[0m \u001b[0mx\u001b[0m\u001b[1;33m:\u001b[0m\u001b[0mx\u001b[0m\u001b[1;33m.\u001b[0m\u001b[0mreplace\u001b[0m\u001b[1;33m(\u001b[0m\u001b[1;34m','\u001b[0m\u001b[1;33m,\u001b[0m\u001b[1;34m''\u001b[0m\u001b[1;33m)\u001b[0m\u001b[1;33m)\u001b[0m\u001b[1;33m.\u001b[0m\u001b[0mastype\u001b[0m\u001b[1;33m(\u001b[0m\u001b[0mint\u001b[0m\u001b[1;33m)\u001b[0m\u001b[1;33m\u001b[0m\u001b[1;33m\u001b[0m\u001b[0m\n\u001b[0m",
      "\u001b[1;32mc:\\program files\\python37\\lib\\site-packages\\pandas\\core\\generic.py\u001b[0m in \u001b[0;36mastype\u001b[1;34m(self, dtype, copy, errors, **kwargs)\u001b[0m\n\u001b[0;32m   5689\u001b[0m             \u001b[1;31m# else, only a single dtype is given\u001b[0m\u001b[1;33m\u001b[0m\u001b[1;33m\u001b[0m\u001b[1;33m\u001b[0m\u001b[0m\n\u001b[0;32m   5690\u001b[0m             new_data = self._data.astype(dtype=dtype, copy=copy, errors=errors,\n\u001b[1;32m-> 5691\u001b[1;33m                                          **kwargs)\n\u001b[0m\u001b[0;32m   5692\u001b[0m             \u001b[1;32mreturn\u001b[0m \u001b[0mself\u001b[0m\u001b[1;33m.\u001b[0m\u001b[0m_constructor\u001b[0m\u001b[1;33m(\u001b[0m\u001b[0mnew_data\u001b[0m\u001b[1;33m)\u001b[0m\u001b[1;33m.\u001b[0m\u001b[0m__finalize__\u001b[0m\u001b[1;33m(\u001b[0m\u001b[0mself\u001b[0m\u001b[1;33m)\u001b[0m\u001b[1;33m\u001b[0m\u001b[1;33m\u001b[0m\u001b[0m\n\u001b[0;32m   5693\u001b[0m \u001b[1;33m\u001b[0m\u001b[0m\n",
      "\u001b[1;32mc:\\program files\\python37\\lib\\site-packages\\pandas\\core\\internals\\managers.py\u001b[0m in \u001b[0;36mastype\u001b[1;34m(self, dtype, **kwargs)\u001b[0m\n\u001b[0;32m    529\u001b[0m \u001b[1;33m\u001b[0m\u001b[0m\n\u001b[0;32m    530\u001b[0m     \u001b[1;32mdef\u001b[0m \u001b[0mastype\u001b[0m\u001b[1;33m(\u001b[0m\u001b[0mself\u001b[0m\u001b[1;33m,\u001b[0m \u001b[0mdtype\u001b[0m\u001b[1;33m,\u001b[0m \u001b[1;33m**\u001b[0m\u001b[0mkwargs\u001b[0m\u001b[1;33m)\u001b[0m\u001b[1;33m:\u001b[0m\u001b[1;33m\u001b[0m\u001b[1;33m\u001b[0m\u001b[0m\n\u001b[1;32m--> 531\u001b[1;33m         \u001b[1;32mreturn\u001b[0m \u001b[0mself\u001b[0m\u001b[1;33m.\u001b[0m\u001b[0mapply\u001b[0m\u001b[1;33m(\u001b[0m\u001b[1;34m'astype'\u001b[0m\u001b[1;33m,\u001b[0m \u001b[0mdtype\u001b[0m\u001b[1;33m=\u001b[0m\u001b[0mdtype\u001b[0m\u001b[1;33m,\u001b[0m \u001b[1;33m**\u001b[0m\u001b[0mkwargs\u001b[0m\u001b[1;33m)\u001b[0m\u001b[1;33m\u001b[0m\u001b[1;33m\u001b[0m\u001b[0m\n\u001b[0m\u001b[0;32m    532\u001b[0m \u001b[1;33m\u001b[0m\u001b[0m\n\u001b[0;32m    533\u001b[0m     \u001b[1;32mdef\u001b[0m \u001b[0mconvert\u001b[0m\u001b[1;33m(\u001b[0m\u001b[0mself\u001b[0m\u001b[1;33m,\u001b[0m \u001b[1;33m**\u001b[0m\u001b[0mkwargs\u001b[0m\u001b[1;33m)\u001b[0m\u001b[1;33m:\u001b[0m\u001b[1;33m\u001b[0m\u001b[1;33m\u001b[0m\u001b[0m\n",
      "\u001b[1;32mc:\\program files\\python37\\lib\\site-packages\\pandas\\core\\internals\\managers.py\u001b[0m in \u001b[0;36mapply\u001b[1;34m(self, f, axes, filter, do_integrity_check, consolidate, **kwargs)\u001b[0m\n\u001b[0;32m    393\u001b[0m                                             copy=align_copy)\n\u001b[0;32m    394\u001b[0m \u001b[1;33m\u001b[0m\u001b[0m\n\u001b[1;32m--> 395\u001b[1;33m             \u001b[0mapplied\u001b[0m \u001b[1;33m=\u001b[0m \u001b[0mgetattr\u001b[0m\u001b[1;33m(\u001b[0m\u001b[0mb\u001b[0m\u001b[1;33m,\u001b[0m \u001b[0mf\u001b[0m\u001b[1;33m)\u001b[0m\u001b[1;33m(\u001b[0m\u001b[1;33m**\u001b[0m\u001b[0mkwargs\u001b[0m\u001b[1;33m)\u001b[0m\u001b[1;33m\u001b[0m\u001b[1;33m\u001b[0m\u001b[0m\n\u001b[0m\u001b[0;32m    396\u001b[0m             \u001b[0mresult_blocks\u001b[0m \u001b[1;33m=\u001b[0m \u001b[0m_extend_blocks\u001b[0m\u001b[1;33m(\u001b[0m\u001b[0mapplied\u001b[0m\u001b[1;33m,\u001b[0m \u001b[0mresult_blocks\u001b[0m\u001b[1;33m)\u001b[0m\u001b[1;33m\u001b[0m\u001b[1;33m\u001b[0m\u001b[0m\n\u001b[0;32m    397\u001b[0m \u001b[1;33m\u001b[0m\u001b[0m\n",
      "\u001b[1;32mc:\\program files\\python37\\lib\\site-packages\\pandas\\core\\internals\\blocks.py\u001b[0m in \u001b[0;36mastype\u001b[1;34m(self, dtype, copy, errors, values, **kwargs)\u001b[0m\n\u001b[0;32m    532\u001b[0m     \u001b[1;32mdef\u001b[0m \u001b[0mastype\u001b[0m\u001b[1;33m(\u001b[0m\u001b[0mself\u001b[0m\u001b[1;33m,\u001b[0m \u001b[0mdtype\u001b[0m\u001b[1;33m,\u001b[0m \u001b[0mcopy\u001b[0m\u001b[1;33m=\u001b[0m\u001b[1;32mFalse\u001b[0m\u001b[1;33m,\u001b[0m \u001b[0merrors\u001b[0m\u001b[1;33m=\u001b[0m\u001b[1;34m'raise'\u001b[0m\u001b[1;33m,\u001b[0m \u001b[0mvalues\u001b[0m\u001b[1;33m=\u001b[0m\u001b[1;32mNone\u001b[0m\u001b[1;33m,\u001b[0m \u001b[1;33m**\u001b[0m\u001b[0mkwargs\u001b[0m\u001b[1;33m)\u001b[0m\u001b[1;33m:\u001b[0m\u001b[1;33m\u001b[0m\u001b[1;33m\u001b[0m\u001b[0m\n\u001b[0;32m    533\u001b[0m         return self._astype(dtype, copy=copy, errors=errors, values=values,\n\u001b[1;32m--> 534\u001b[1;33m                             **kwargs)\n\u001b[0m\u001b[0;32m    535\u001b[0m \u001b[1;33m\u001b[0m\u001b[0m\n\u001b[0;32m    536\u001b[0m     def _astype(self, dtype, copy=False, errors='raise', values=None,\n",
      "\u001b[1;32mc:\\program files\\python37\\lib\\site-packages\\pandas\\core\\internals\\blocks.py\u001b[0m in \u001b[0;36m_astype\u001b[1;34m(self, dtype, copy, errors, values, **kwargs)\u001b[0m\n\u001b[0;32m    631\u001b[0m \u001b[1;33m\u001b[0m\u001b[0m\n\u001b[0;32m    632\u001b[0m                     \u001b[1;31m# _astype_nansafe works fine with 1-d only\u001b[0m\u001b[1;33m\u001b[0m\u001b[1;33m\u001b[0m\u001b[1;33m\u001b[0m\u001b[0m\n\u001b[1;32m--> 633\u001b[1;33m                     \u001b[0mvalues\u001b[0m \u001b[1;33m=\u001b[0m \u001b[0mastype_nansafe\u001b[0m\u001b[1;33m(\u001b[0m\u001b[0mvalues\u001b[0m\u001b[1;33m.\u001b[0m\u001b[0mravel\u001b[0m\u001b[1;33m(\u001b[0m\u001b[1;33m)\u001b[0m\u001b[1;33m,\u001b[0m \u001b[0mdtype\u001b[0m\u001b[1;33m,\u001b[0m \u001b[0mcopy\u001b[0m\u001b[1;33m=\u001b[0m\u001b[1;32mTrue\u001b[0m\u001b[1;33m)\u001b[0m\u001b[1;33m\u001b[0m\u001b[1;33m\u001b[0m\u001b[0m\n\u001b[0m\u001b[0;32m    634\u001b[0m \u001b[1;33m\u001b[0m\u001b[0m\n\u001b[0;32m    635\u001b[0m                 \u001b[1;31m# TODO(extension)\u001b[0m\u001b[1;33m\u001b[0m\u001b[1;33m\u001b[0m\u001b[1;33m\u001b[0m\u001b[0m\n",
      "\u001b[1;32mc:\\program files\\python37\\lib\\site-packages\\pandas\\core\\dtypes\\cast.py\u001b[0m in \u001b[0;36mastype_nansafe\u001b[1;34m(arr, dtype, copy, skipna)\u001b[0m\n\u001b[0;32m    681\u001b[0m         \u001b[1;31m# work around NumPy brokenness, #1987\u001b[0m\u001b[1;33m\u001b[0m\u001b[1;33m\u001b[0m\u001b[1;33m\u001b[0m\u001b[0m\n\u001b[0;32m    682\u001b[0m         \u001b[1;32mif\u001b[0m \u001b[0mnp\u001b[0m\u001b[1;33m.\u001b[0m\u001b[0missubdtype\u001b[0m\u001b[1;33m(\u001b[0m\u001b[0mdtype\u001b[0m\u001b[1;33m.\u001b[0m\u001b[0mtype\u001b[0m\u001b[1;33m,\u001b[0m \u001b[0mnp\u001b[0m\u001b[1;33m.\u001b[0m\u001b[0minteger\u001b[0m\u001b[1;33m)\u001b[0m\u001b[1;33m:\u001b[0m\u001b[1;33m\u001b[0m\u001b[1;33m\u001b[0m\u001b[0m\n\u001b[1;32m--> 683\u001b[1;33m             \u001b[1;32mreturn\u001b[0m \u001b[0mlib\u001b[0m\u001b[1;33m.\u001b[0m\u001b[0mastype_intsafe\u001b[0m\u001b[1;33m(\u001b[0m\u001b[0marr\u001b[0m\u001b[1;33m.\u001b[0m\u001b[0mravel\u001b[0m\u001b[1;33m(\u001b[0m\u001b[1;33m)\u001b[0m\u001b[1;33m,\u001b[0m \u001b[0mdtype\u001b[0m\u001b[1;33m)\u001b[0m\u001b[1;33m.\u001b[0m\u001b[0mreshape\u001b[0m\u001b[1;33m(\u001b[0m\u001b[0marr\u001b[0m\u001b[1;33m.\u001b[0m\u001b[0mshape\u001b[0m\u001b[1;33m)\u001b[0m\u001b[1;33m\u001b[0m\u001b[1;33m\u001b[0m\u001b[0m\n\u001b[0m\u001b[0;32m    684\u001b[0m \u001b[1;33m\u001b[0m\u001b[0m\n\u001b[0;32m    685\u001b[0m         \u001b[1;31m# if we have a datetime/timedelta array of objects\u001b[0m\u001b[1;33m\u001b[0m\u001b[1;33m\u001b[0m\u001b[1;33m\u001b[0m\u001b[0m\n",
      "\u001b[1;32mpandas\\_libs\\lib.pyx\u001b[0m in \u001b[0;36mpandas._libs.lib.astype_intsafe\u001b[1;34m()\u001b[0m\n",
      "\u001b[1;31mValueError\u001b[0m: invalid literal for int() with base 10: '1.5%'"
     ]
    }
   ],
   "source": [
    "df.likes = df.likes.fillna(\"-1\")\n",
    "df.likes = df.likes.apply(lambda x:str(x))\n",
    "cont = 0\n",
    "for x in df.likes:\n",
    "    if(x[-1]=='%'):\n",
    "        df.likes[cont] = '-1'\n",
    "    cont+=1\n",
    "\n",
    "df.likes = df.likes.apply(lambda x:x.replace(',','')).astype(int)"
   ]
  },
  {
   "cell_type": "code",
   "execution_count": 299,
   "metadata": {},
   "outputs": [],
   "source": [
    "df.comments_disabled = df.comments_disabled.astype(bool)"
   ]
  },
  {
   "cell_type": "code",
   "execution_count": 300,
   "metadata": {},
   "outputs": [],
   "source": [
    "df.ratings_disabled = df.ratings_disabled.astype(bool)"
   ]
  },
  {
   "cell_type": "code",
   "execution_count": 301,
   "metadata": {
    "scrolled": true
   },
   "outputs": [
    {
     "name": "stderr",
     "output_type": "stream",
     "text": [
      "c:\\program files\\python37\\lib\\site-packages\\ipykernel_launcher.py:5: SettingWithCopyWarning: \n",
      "A value is trying to be set on a copy of a slice from a DataFrame\n",
      "\n",
      "See the caveats in the documentation: http://pandas.pydata.org/pandas-docs/stable/indexing.html#indexing-view-versus-copy\n",
      "  \"\"\"\n"
     ]
    }
   ],
   "source": [
    "df.subscriber_rank = df.subscriber_rank.apply(lambda x:str(x)[:-2].replace(',',''))\n",
    "cont = 0 \n",
    "for x in df.subscriber_rank:\n",
    "    if(x ==\"\" or x[0] not in \"0123456789\"):\n",
    "        df.subscriber_rank[cont] = \"-1\"\n",
    "    cont+=1"
   ]
  },
  {
   "cell_type": "code",
   "execution_count": 302,
   "metadata": {},
   "outputs": [],
   "source": [
    "df.subscriber_rank = df.subscriber_rank.replace('n',-1)"
   ]
  },
  {
   "cell_type": "code",
   "execution_count": 303,
   "metadata": {},
   "outputs": [],
   "source": [
    "df.subscriber_rank = df.subscriber_rank.astype(int)"
   ]
  },
  {
   "cell_type": "code",
   "execution_count": 304,
   "metadata": {
    "scrolled": true
   },
   "outputs": [
    {
     "name": "stderr",
     "output_type": "stream",
     "text": [
      "c:\\program files\\python37\\lib\\site-packages\\ipykernel_launcher.py:5: SettingWithCopyWarning: \n",
      "A value is trying to be set on a copy of a slice from a DataFrame\n",
      "\n",
      "See the caveats in the documentation: http://pandas.pydata.org/pandas-docs/stable/indexing.html#indexing-view-versus-copy\n",
      "  \"\"\"\n"
     ]
    }
   ],
   "source": [
    "df.video_view_rank = df.video_view_rank.apply(lambda x:str(x)[:-2].replace(',',''))\n",
    "cont = 0 \n",
    "for x in df.video_view_rank:\n",
    "    if(x ==\"\" or x[0] not in \"0123456789\"):\n",
    "        df.video_view_rank[cont] = \"-1\"\n",
    "    cont+=1"
   ]
  },
  {
   "cell_type": "code",
   "execution_count": 305,
   "metadata": {},
   "outputs": [],
   "source": [
    "df.video_view_rank = df.video_view_rank.replace('n',-1)"
   ]
  },
  {
   "cell_type": "code",
   "execution_count": 306,
   "metadata": {},
   "outputs": [],
   "source": [
    "df.video_view_rank = df.video_view_rank.astype(int)"
   ]
  },
  {
   "cell_type": "code",
   "execution_count": 307,
   "metadata": {},
   "outputs": [
    {
     "data": {
      "text/plain": [
       "video_id             object\n",
       "title                object\n",
       "publishedAt          object\n",
       "channelId            object\n",
       "channelTitle         object\n",
       "categoryId           object\n",
       "trending             object\n",
       "tags                 object\n",
       "view_count            int32\n",
       "likes                object\n",
       "dislikes              int32\n",
       "comment_count         int32\n",
       "thumbnail_link       object\n",
       "comments_disabled      bool\n",
       "ratings_disabled       bool\n",
       "description          object\n",
       "country              object\n",
       "total_grade          object\n",
       "subscriber_rank       int32\n",
       "video_view_rank       int32\n",
       "social_blade_rank    object\n",
       "views_30_days        object\n",
       "change_views_30      object\n",
       "subs_30_days         object\n",
       "change_subs_30       object\n",
       "videoCategory        object\n",
       "dtype: object"
      ]
     },
     "execution_count": 307,
     "metadata": {},
     "output_type": "execute_result"
    }
   ],
   "source": [
    "df.dtypes"
   ]
  },
  {
   "cell_type": "code",
   "execution_count": 308,
   "metadata": {},
   "outputs": [
    {
     "name": "stderr",
     "output_type": "stream",
     "text": [
      "c:\\program files\\python37\\lib\\site-packages\\ipykernel_launcher.py:5: SettingWithCopyWarning: \n",
      "A value is trying to be set on a copy of a slice from a DataFrame\n",
      "\n",
      "See the caveats in the documentation: http://pandas.pydata.org/pandas-docs/stable/indexing.html#indexing-view-versus-copy\n",
      "  \"\"\"\n"
     ]
    }
   ],
   "source": [
    "df.social_blade_rank = df.social_blade_rank.apply(lambda x:str(x)[:-2].replace(',',''))\n",
    "cont = 0 \n",
    "for x in df.social_blade_rank:\n",
    "    if(x ==\"\" or x[0] not in \"0123456789\"):\n",
    "        df.social_blade_rank[cont] = \"-1\"\n",
    "    cont+=1\n",
    "df.social_blade_rank = df.social_blade_rank.replace('n',-1)\n",
    "df.social_blade_rank = df.social_blade_rank.astype(int)"
   ]
  },
  {
   "cell_type": "code",
   "execution_count": 309,
   "metadata": {
    "scrolled": true
   },
   "outputs": [
    {
     "name": "stderr",
     "output_type": "stream",
     "text": [
      "c:\\program files\\python37\\lib\\site-packages\\ipykernel_launcher.py:6: SettingWithCopyWarning: \n",
      "A value is trying to be set on a copy of a slice from a DataFrame\n",
      "\n",
      "See the caveats in the documentation: http://pandas.pydata.org/pandas-docs/stable/indexing.html#indexing-view-versus-copy\n",
      "  \n"
     ]
    }
   ],
   "source": [
    "df.views_30_days = df.views_30_days.apply(lambda x:str(x).replace(',',''))\n",
    "\n",
    "cont = 0\n",
    "for x in df.views_30_days:\n",
    "    if x==\"nan\":\n",
    "        df.views_30_days[cont] = \"-1\"\n",
    "    cont+=1\n",
    "df.views_30_days = df.views_30_days.replace('n',-1)"
   ]
  },
  {
   "cell_type": "code",
   "execution_count": 310,
   "metadata": {},
   "outputs": [],
   "source": [
    "df.views_30_days = df.views_30_days.replace('nan',-1)\n",
    "df.views_30_days = df.views_30_days.astype(np.int64)"
   ]
  },
  {
   "cell_type": "code",
   "execution_count": 311,
   "metadata": {
    "scrolled": true
   },
   "outputs": [
    {
     "name": "stderr",
     "output_type": "stream",
     "text": [
      "c:\\program files\\python37\\lib\\site-packages\\ipykernel_launcher.py:6: SettingWithCopyWarning: \n",
      "A value is trying to be set on a copy of a slice from a DataFrame\n",
      "\n",
      "See the caveats in the documentation: http://pandas.pydata.org/pandas-docs/stable/indexing.html#indexing-view-versus-copy\n",
      "  \n"
     ]
    }
   ],
   "source": [
    "df.subs_30_days = df.subs_30_days.apply(lambda x:str(x).replace(',',''))\n",
    "\n",
    "cont = 0\n",
    "for x in df.subs_30_days:\n",
    "    if x==\"nan\":\n",
    "        df.subs_30_days[cont] = \"-1\"\n",
    "    cont+=1\n",
    "df.subs_30_days = df.subs_30_days.replace('n',-1)"
   ]
  },
  {
   "cell_type": "code",
   "execution_count": 312,
   "metadata": {},
   "outputs": [],
   "source": [
    "df.subs_30_days = df.subs_30_days.replace('nan',-1)\n",
    "df.subs_30_days = df.subs_30_days.astype(int)"
   ]
  },
  {
   "cell_type": "code",
   "execution_count": 313,
   "metadata": {},
   "outputs": [
    {
     "data": {
      "text/html": [
       "<div>\n",
       "<style scoped>\n",
       "    .dataframe tbody tr th:only-of-type {\n",
       "        vertical-align: middle;\n",
       "    }\n",
       "\n",
       "    .dataframe tbody tr th {\n",
       "        vertical-align: top;\n",
       "    }\n",
       "\n",
       "    .dataframe thead th {\n",
       "        text-align: right;\n",
       "    }\n",
       "</style>\n",
       "<table border=\"1\" class=\"dataframe\">\n",
       "  <thead>\n",
       "    <tr style=\"text-align: right;\">\n",
       "      <th></th>\n",
       "      <th>video_id</th>\n",
       "      <th>title</th>\n",
       "      <th>publishedAt</th>\n",
       "      <th>channelId</th>\n",
       "      <th>channelTitle</th>\n",
       "      <th>categoryId</th>\n",
       "      <th>trending</th>\n",
       "      <th>tags</th>\n",
       "      <th>view_count</th>\n",
       "      <th>likes</th>\n",
       "      <th>...</th>\n",
       "      <th>country</th>\n",
       "      <th>total_grade</th>\n",
       "      <th>subscriber_rank</th>\n",
       "      <th>video_view_rank</th>\n",
       "      <th>social_blade_rank</th>\n",
       "      <th>views_30_days</th>\n",
       "      <th>change_views_30</th>\n",
       "      <th>subs_30_days</th>\n",
       "      <th>change_subs_30</th>\n",
       "      <th>videoCategory</th>\n",
       "    </tr>\n",
       "  </thead>\n",
       "  <tbody>\n",
       "    <tr>\n",
       "      <th>0</th>\n",
       "      <td>LfnzCsEzNSk</td>\n",
       "      <td>Jealous, Cake By The Ocean, Sucker Medley (Liv...</td>\n",
       "      <td>2019-05-02</td>\n",
       "      <td>UCfyi9QuDWdapI6ICbjYgxtA</td>\n",
       "      <td>JonasBrothersVEVO</td>\n",
       "      <td>10</td>\n",
       "      <td>0</td>\n",
       "      <td>Jonas Brothers|Sucker live|BBMAs|Sucker BBMAs|...</td>\n",
       "      <td>8935691</td>\n",
       "      <td>499982</td>\n",
       "      <td>...</td>\n",
       "      <td>ng</td>\n",
       "      <td>A-</td>\n",
       "      <td>22706</td>\n",
       "      <td>10164</td>\n",
       "      <td>1680</td>\n",
       "      <td>61671000</td>\n",
       "      <td>5.7%</td>\n",
       "      <td>-552</td>\n",
       "      <td>236.1%</td>\n",
       "      <td>Music</td>\n",
       "    </tr>\n",
       "    <tr>\n",
       "      <th>1</th>\n",
       "      <td>8_JbZvHc92U</td>\n",
       "      <td>Jonas Brothers - Cool</td>\n",
       "      <td>2019-04-05</td>\n",
       "      <td>UCfyi9QuDWdapI6ICbjYgxtA</td>\n",
       "      <td>JonasBrothersVEVO</td>\n",
       "      <td>10</td>\n",
       "      <td>0</td>\n",
       "      <td>Jonas|Brothers|Cool|Recording|Limited|Liabilit...</td>\n",
       "      <td>31999434</td>\n",
       "      <td>1384297</td>\n",
       "      <td>...</td>\n",
       "      <td>ng</td>\n",
       "      <td>B+</td>\n",
       "      <td>22263</td>\n",
       "      <td>11739</td>\n",
       "      <td>2346</td>\n",
       "      <td>60653700</td>\n",
       "      <td>5.1%</td>\n",
       "      <td>-198</td>\n",
       "      <td>83.6%</td>\n",
       "      <td>Music</td>\n",
       "    </tr>\n",
       "    <tr>\n",
       "      <th>2</th>\n",
       "      <td>YysWbPzkgpo</td>\n",
       "      <td>Jonas Brothers - Sucker (Director's Cut)</td>\n",
       "      <td>2019-03-05</td>\n",
       "      <td>UCfyi9QuDWdapI6ICbjYgxtA</td>\n",
       "      <td>JonasBrothersVEVO</td>\n",
       "      <td>10</td>\n",
       "      <td>0</td>\n",
       "      <td>Jonas|Brothers|Sucker|(Director's|Cut)|Recordi...</td>\n",
       "      <td>6227675</td>\n",
       "      <td>294909</td>\n",
       "      <td>...</td>\n",
       "      <td>ng</td>\n",
       "      <td>A-</td>\n",
       "      <td>21945</td>\n",
       "      <td>12278</td>\n",
       "      <td>1270</td>\n",
       "      <td>110632200</td>\n",
       "      <td>5,669.8%</td>\n",
       "      <td>-422</td>\n",
       "      <td>61.2%</td>\n",
       "      <td>Music</td>\n",
       "    </tr>\n",
       "    <tr>\n",
       "      <th>3</th>\n",
       "      <td>CnAmeh0-E-U</td>\n",
       "      <td>Jonas Brothers - Sucker</td>\n",
       "      <td>2019-03-01</td>\n",
       "      <td>UCfyi9QuDWdapI6ICbjYgxtA</td>\n",
       "      <td>JonasBrothersVEVO</td>\n",
       "      <td>10</td>\n",
       "      <td>0</td>\n",
       "      <td>Jonas|Brothers|Sucker|Recording|Pop</td>\n",
       "      <td>124971717</td>\n",
       "      <td>4449128</td>\n",
       "      <td>...</td>\n",
       "      <td>ng</td>\n",
       "      <td>A-</td>\n",
       "      <td>21945</td>\n",
       "      <td>12278</td>\n",
       "      <td>1270</td>\n",
       "      <td>110632200</td>\n",
       "      <td>5,669.8%</td>\n",
       "      <td>-422</td>\n",
       "      <td>61.2%</td>\n",
       "      <td>Music</td>\n",
       "    </tr>\n",
       "    <tr>\n",
       "      <th>4</th>\n",
       "      <td>wmfwuQEiFcQ</td>\n",
       "      <td>Jonas Brothers - Mandy</td>\n",
       "      <td>2014-10-29</td>\n",
       "      <td>UCfyi9QuDWdapI6ICbjYgxtA</td>\n",
       "      <td>JonasBrothersVEVO</td>\n",
       "      <td>10</td>\n",
       "      <td>0</td>\n",
       "      <td>Jonas|Brothers|Mandy|Shout|Factory|Pop|Rock</td>\n",
       "      <td>438004</td>\n",
       "      <td>12174</td>\n",
       "      <td>...</td>\n",
       "      <td>ng</td>\n",
       "      <td>A-</td>\n",
       "      <td>21945</td>\n",
       "      <td>12278</td>\n",
       "      <td>1270</td>\n",
       "      <td>110632200</td>\n",
       "      <td>5,669.8%</td>\n",
       "      <td>-422</td>\n",
       "      <td>61.2%</td>\n",
       "      <td>Music</td>\n",
       "    </tr>\n",
       "  </tbody>\n",
       "</table>\n",
       "<p>5 rows × 26 columns</p>\n",
       "</div>"
      ],
      "text/plain": [
       "      video_id                                              title publishedAt  \\\n",
       "0  LfnzCsEzNSk  Jealous, Cake By The Ocean, Sucker Medley (Liv...  2019-05-02   \n",
       "1  8_JbZvHc92U                              Jonas Brothers - Cool  2019-04-05   \n",
       "2  YysWbPzkgpo           Jonas Brothers - Sucker (Director's Cut)  2019-03-05   \n",
       "3  CnAmeh0-E-U                            Jonas Brothers - Sucker  2019-03-01   \n",
       "4  wmfwuQEiFcQ                             Jonas Brothers - Mandy  2014-10-29   \n",
       "\n",
       "                  channelId       channelTitle categoryId trending  \\\n",
       "0  UCfyi9QuDWdapI6ICbjYgxtA  JonasBrothersVEVO         10        0   \n",
       "1  UCfyi9QuDWdapI6ICbjYgxtA  JonasBrothersVEVO         10        0   \n",
       "2  UCfyi9QuDWdapI6ICbjYgxtA  JonasBrothersVEVO         10        0   \n",
       "3  UCfyi9QuDWdapI6ICbjYgxtA  JonasBrothersVEVO         10        0   \n",
       "4  UCfyi9QuDWdapI6ICbjYgxtA  JonasBrothersVEVO         10        0   \n",
       "\n",
       "                                                tags  view_count    likes  \\\n",
       "0  Jonas Brothers|Sucker live|BBMAs|Sucker BBMAs|...     8935691   499982   \n",
       "1  Jonas|Brothers|Cool|Recording|Limited|Liabilit...    31999434  1384297   \n",
       "2  Jonas|Brothers|Sucker|(Director's|Cut)|Recordi...     6227675   294909   \n",
       "3                Jonas|Brothers|Sucker|Recording|Pop   124971717  4449128   \n",
       "4        Jonas|Brothers|Mandy|Shout|Factory|Pop|Rock      438004    12174   \n",
       "\n",
       "   ...  country  total_grade subscriber_rank  video_view_rank  \\\n",
       "0  ...       ng           A-           22706            10164   \n",
       "1  ...       ng           B+           22263            11739   \n",
       "2  ...       ng           A-           21945            12278   \n",
       "3  ...       ng           A-           21945            12278   \n",
       "4  ...       ng           A-           21945            12278   \n",
       "\n",
       "   social_blade_rank views_30_days change_views_30 subs_30_days  \\\n",
       "0               1680      61671000            5.7%         -552   \n",
       "1               2346      60653700            5.1%         -198   \n",
       "2               1270     110632200        5,669.8%         -422   \n",
       "3               1270     110632200        5,669.8%         -422   \n",
       "4               1270     110632200        5,669.8%         -422   \n",
       "\n",
       "   change_subs_30  videoCategory  \n",
       "0          236.1%          Music  \n",
       "1           83.6%          Music  \n",
       "2           61.2%          Music  \n",
       "3           61.2%          Music  \n",
       "4           61.2%          Music  \n",
       "\n",
       "[5 rows x 26 columns]"
      ]
     },
     "execution_count": 313,
     "metadata": {},
     "output_type": "execute_result"
    }
   ],
   "source": [
    "df.head()"
   ]
  },
  {
   "cell_type": "code",
   "execution_count": 314,
   "metadata": {},
   "outputs": [
    {
     "data": {
      "text/plain": [
       "NaN         488\n",
       "3.9%         24\n",
       "38.6%        24\n",
       "18.4%        20\n",
       "6.5%         17\n",
       "14.1%        16\n",
       "23.4%        15\n",
       "64.3%        14\n",
       "11.6%        14\n",
       "33.1%        14\n",
       "20.8%        13\n",
       "19.3%        13\n",
       "13.1%        13\n",
       "39.4%        13\n",
       "11.5%        12\n",
       "20.4%        12\n",
       "5%           12\n",
       "32.3%        12\n",
       "80.3%        12\n",
       "26.3%        12\n",
       "14.2%        12\n",
       "64.8%        12\n",
       "75.1%        12\n",
       "93.7%        12\n",
       "48.6%        12\n",
       "36.3%        12\n",
       "60.1%        12\n",
       "92.2%        12\n",
       "28.5%        12\n",
       "116.5%       12\n",
       "           ... \n",
       "68.4%         1\n",
       "272.3%        1\n",
       "40.1%         1\n",
       "14.9%         1\n",
       "77.5%         1\n",
       "64.9%         1\n",
       "6.4%          1\n",
       "160.2%        1\n",
       "30.2%         1\n",
       "28%           1\n",
       "52.5%         1\n",
       "11.3%         1\n",
       "12.0%         1\n",
       "35.3%         1\n",
       "643.4%        1\n",
       "49.6%         1\n",
       "0.9%          1\n",
       "35.5%         1\n",
       "88.5%         1\n",
       "77.0%         1\n",
       "3.4%          1\n",
       "44.1%         1\n",
       "45.7%         1\n",
       "35.7%         1\n",
       "70.8%         1\n",
       "177.6%        1\n",
       "17.8%         1\n",
       "25.4%         1\n",
       "69.2%         1\n",
       "6,543.4%      1\n",
       "Name: change_subs_30, Length: 249, dtype: int64"
      ]
     },
     "execution_count": 314,
     "metadata": {},
     "output_type": "execute_result"
    }
   ],
   "source": [
    "df.change_subs_30.value_counts(dropna=False)"
   ]
  },
  {
   "cell_type": "code",
   "execution_count": 315,
   "metadata": {},
   "outputs": [],
   "source": [
    "df.to_csv('youtube_video_data.csv')"
   ]
  },
  {
   "cell_type": "code",
   "execution_count": 316,
   "metadata": {},
   "outputs": [],
   "source": [
    "df.trending = df.trending.replace(np.nan,'0')\n",
    "df.trending = df.trending.replace('615,237,000','0')"
   ]
  },
  {
   "cell_type": "code",
   "execution_count": 317,
   "metadata": {},
   "outputs": [],
   "source": [
    "df.trending = df.trending.astype(int)\n",
    "df = df[pd.notnull(df.videoCategory)]"
   ]
  },
  {
   "cell_type": "code",
   "execution_count": 325,
   "metadata": {},
   "outputs": [
    {
     "data": {
      "image/png": "[encoded data removed]",
      "text/plain": [
       "<Figure size 504x504 with 1 Axes>"
      ]
     },
     "metadata": {},
     "output_type": "display_data"
    }
   ],
   "source": [
    "plt.figure(figsize=(7,7))\n",
    "plt.rcParams.update({'font.size': 25, 'text.color': 'black'})\n",
    "plt.pie([df[df['trending'] == 1].shape[0],df[df['trending'] == 0].shape[0]], labels=['Trending','No Trending'],autopct='%1.1f%%')\n",
    "plt.axis('equal')\n",
    "plt.show()"
   ]
  },
  {
   "cell_type": "code",
   "execution_count": 319,
   "metadata": {},
   "outputs": [
    {
     "data": {
      "image/png": "[encoded data removed]",
      "text/plain": [
       "<Figure size 720x504 with 1 Axes>"
      ]
     },
     "metadata": {
      "needs_background": "light"
     },
     "output_type": "display_data"
    }
   ],
   "source": [
    "cats = list(set(df.videoCategory.values))\n",
    "x_pos = [i for i,_ in enumerate(cats)]\n",
    "\n",
    "num_per_cat = []\n",
    "for cat in cats:\n",
    "    num_per_cat.append(df[df.videoCategory == cat].shape[0])\n",
    "\n",
    "plt.figure(figsize=(10,7))\n",
    "plt.rcParams.update({'font.size': 12, 'text.color': 'black'})\n",
    "plt.barh(x_pos, num_per_cat, color='green')\n",
    "plt.ylabel(\"Categories\")\n",
    "plt.xlabel(\"Videos\")\n",
    "plt.title(\"Categories per video\")\n",
    "\n",
    "plt.yticks(x_pos, cats)\n",
    "plt.show()"
   ]
  },
  {
   "cell_type": "code",
   "execution_count": 324,
   "metadata": {
    "scrolled": false
   },
   "outputs": [
    {
     "data": {
      "image/png": "[encoded data removed]",
      "text/plain": [
       "<Figure size 720x504 with 1 Axes>"
      ]
     },
     "metadata": {
      "needs_background": "light"
     },
     "output_type": "display_data"
    }
   ],
   "source": [
    "num_per_cat = []\n",
    "for cat in cats:\n",
    "    num_per_cat.append(df[(df.videoCategory == cat) & (df.trending == 1)].shape[0]/len(df))\n",
    "num_per_cat_1 = []\n",
    "for cat in cats:\n",
    "    num_per_cat_1.append(df[(df.videoCategory == cat) & (df.trending == 0)].shape[0]/len(df))\n",
    "\n",
    "'''\n",
    "plt.figure(figsize=(10,7))\n",
    "plt.rcParams.update({'font.size': 12, 'text.color': 'black'})\n",
    "plt.barh(x_pos, num_per_cat, color='blue',label='trending')\n",
    "plt.barh(x_pos,num_per_cat_1, color='red',label='no trending')\n",
    "plt.ylabel(\"Categories\")\n",
    "plt.xlabel(\"Videos trending\")\n",
    "plt.title(\"Categories per video\")\n",
    "plt.yticks(x_pos, cats)\n",
    "'''\n",
    "x_pos = np.arange(len(cats))\n",
    "width = 0.4\n",
    "\n",
    "fig, ax = plt.subplots(figsize=(10,7))\n",
    "ax.barh(x_pos, num_per_cat, width, color='red', label='trending')\n",
    "ax.barh(x_pos + width, num_per_cat_1, width, color='green', label='no trending')\n",
    "\n",
    "ax.set(yticks=x_pos + width, yticklabels=cats, ylim=[2*width - 1, len(cats)])\n",
    "ax.legend()\n",
    "\n",
    "plt.show()"
   ]
  },
  {
   "cell_type": "code",
   "execution_count": 347,
   "metadata": {},
   "outputs": [
    {
     "data": {
      "image/png": "[encoded data removed]",
      "text/plain": [
       "<Figure size 576x360 with 1 Axes>"
      ]
     },
     "metadata": {
      "needs_background": "light"
     },
     "output_type": "display_data"
    }
   ],
   "source": [
    "grades = list(set(df.total_grade.values))\n",
    "trending_grade = []\n",
    "for cat in grades:\n",
    "    if(cat == grades[0]): cat = 'nan'\n",
    "    trending_grade.append(df[(df.total_grade == cat) & (df.trending == 1)].shape[0]/len(df))\n",
    "notrending_grade = []\n",
    "for cat in grades:\n",
    "    if(cat == grades[0]): cat = 'nan'\n",
    "    notrending_grade.append(df[(df.total_grade == cat) & (df.trending == 0)].shape[0]/len(df))\n",
    "    \n",
    "x_pos = np.arange(len(grades))\n",
    "width = 0.4\n",
    "\n",
    "plt.rcParams.update({'font.size': 12, 'text.color': 'black'})\n",
    "fig, ax = plt.subplots(figsize=(8,5))\n",
    "ax.barh(x_pos, trending_grade, width, color='blue', label='trending')\n",
    "ax.barh(x_pos + width, notrending_grade, width, color='green', label='no trending')\n",
    "\n",
    "ax.set(yticks=x_pos + width, yticklabels=grades, ylim=[2*width - 1, len(cats)])\n",
    "ax.legend()\n",
    "\n",
    "plt.show()"
   ]
  },
  {
   "cell_type": "code",
   "execution_count": null,
   "metadata": {},
   "outputs": [],
   "source": []
  }
 ],
 "metadata": {
  "kernelspec": {
   "display_name": "Python 3",
   "language": "python",
   "name": "python3"
  },
  "language_info": {
   "codemirror_mode": {
    "name": "ipython",
    "version": 3
   },
   "file_extension": ".py",
   "mimetype": "text/x-python",
   "name": "python",
   "nbconvert_exporter": "python",
   "pygments_lexer": "ipython3",
   "version": "3.7.3"
  }
 },
 "nbformat": 4,
 "nbformat_minor": 2
}
